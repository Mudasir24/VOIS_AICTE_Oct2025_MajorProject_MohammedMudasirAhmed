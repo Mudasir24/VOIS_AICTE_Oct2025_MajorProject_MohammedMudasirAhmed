{
 "cells": [
  {
   "cell_type": "code",
   "execution_count": 1,
   "id": "e9d5033e",
   "metadata": {},
   "outputs": [],
   "source": [
    "import pandas as pd\n",
    "import numpy as np\n",
    "import matplotlib.pyplot as plt\n",
    "import seaborn as sns\n",
    "import plotly.express as px"
   ]
  },
  {
   "cell_type": "code",
   "execution_count": 2,
   "id": "6c8bce2c",
   "metadata": {},
   "outputs": [],
   "source": [
    "sns.set(style=\"whitegrid\")\n",
    "plt.rcParams['figure.figsize'] = (12,6)"
   ]
  },
  {
   "cell_type": "code",
   "execution_count": 3,
   "id": "aec09c21",
   "metadata": {},
   "outputs": [
    {
     "data": {
      "text/html": [
       "<div>\n",
       "<style scoped>\n",
       "    .dataframe tbody tr th:only-of-type {\n",
       "        vertical-align: middle;\n",
       "    }\n",
       "\n",
       "    .dataframe tbody tr th {\n",
       "        vertical-align: top;\n",
       "    }\n",
       "\n",
       "    .dataframe thead th {\n",
       "        text-align: right;\n",
       "    }\n",
       "</style>\n",
       "<table border=\"1\" class=\"dataframe\">\n",
       "  <thead>\n",
       "    <tr style=\"text-align: right;\">\n",
       "      <th></th>\n",
       "      <th>Show_Id</th>\n",
       "      <th>Category</th>\n",
       "      <th>Title</th>\n",
       "      <th>Director</th>\n",
       "      <th>Cast</th>\n",
       "      <th>Country</th>\n",
       "      <th>Release_Date</th>\n",
       "      <th>Rating</th>\n",
       "      <th>Duration</th>\n",
       "      <th>Type</th>\n",
       "      <th>Description</th>\n",
       "    </tr>\n",
       "  </thead>\n",
       "  <tbody>\n",
       "    <tr>\n",
       "      <th>0</th>\n",
       "      <td>s1</td>\n",
       "      <td>TV Show</td>\n",
       "      <td>3%</td>\n",
       "      <td>NaN</td>\n",
       "      <td>João Miguel, Bianca Comparato, Michel Gomes, R...</td>\n",
       "      <td>Brazil</td>\n",
       "      <td>August 14, 2020</td>\n",
       "      <td>TV-MA</td>\n",
       "      <td>4 Seasons</td>\n",
       "      <td>International TV Shows, TV Dramas, TV Sci-Fi &amp;...</td>\n",
       "      <td>In a future where the elite inhabit an island ...</td>\n",
       "    </tr>\n",
       "    <tr>\n",
       "      <th>1</th>\n",
       "      <td>s2</td>\n",
       "      <td>Movie</td>\n",
       "      <td>07:19</td>\n",
       "      <td>Jorge Michel Grau</td>\n",
       "      <td>Demián Bichir, Héctor Bonilla, Oscar Serrano, ...</td>\n",
       "      <td>Mexico</td>\n",
       "      <td>December 23, 2016</td>\n",
       "      <td>TV-MA</td>\n",
       "      <td>93 min</td>\n",
       "      <td>Dramas, International Movies</td>\n",
       "      <td>After a devastating earthquake hits Mexico Cit...</td>\n",
       "    </tr>\n",
       "    <tr>\n",
       "      <th>2</th>\n",
       "      <td>s3</td>\n",
       "      <td>Movie</td>\n",
       "      <td>23:59</td>\n",
       "      <td>Gilbert Chan</td>\n",
       "      <td>Tedd Chan, Stella Chung, Henley Hii, Lawrence ...</td>\n",
       "      <td>Singapore</td>\n",
       "      <td>December 20, 2018</td>\n",
       "      <td>R</td>\n",
       "      <td>78 min</td>\n",
       "      <td>Horror Movies, International Movies</td>\n",
       "      <td>When an army recruit is found dead, his fellow...</td>\n",
       "    </tr>\n",
       "    <tr>\n",
       "      <th>3</th>\n",
       "      <td>s4</td>\n",
       "      <td>Movie</td>\n",
       "      <td>9</td>\n",
       "      <td>Shane Acker</td>\n",
       "      <td>Elijah Wood, John C. Reilly, Jennifer Connelly...</td>\n",
       "      <td>United States</td>\n",
       "      <td>November 16, 2017</td>\n",
       "      <td>PG-13</td>\n",
       "      <td>80 min</td>\n",
       "      <td>Action &amp; Adventure, Independent Movies, Sci-Fi...</td>\n",
       "      <td>In a postapocalyptic world, rag-doll robots hi...</td>\n",
       "    </tr>\n",
       "    <tr>\n",
       "      <th>4</th>\n",
       "      <td>s5</td>\n",
       "      <td>Movie</td>\n",
       "      <td>21</td>\n",
       "      <td>Robert Luketic</td>\n",
       "      <td>Jim Sturgess, Kevin Spacey, Kate Bosworth, Aar...</td>\n",
       "      <td>United States</td>\n",
       "      <td>January 1, 2020</td>\n",
       "      <td>PG-13</td>\n",
       "      <td>123 min</td>\n",
       "      <td>Dramas</td>\n",
       "      <td>A brilliant group of students become card-coun...</td>\n",
       "    </tr>\n",
       "  </tbody>\n",
       "</table>\n",
       "</div>"
      ],
      "text/plain": [
       "  Show_Id Category  Title           Director  \\\n",
       "0      s1  TV Show     3%                NaN   \n",
       "1      s2    Movie  07:19  Jorge Michel Grau   \n",
       "2      s3    Movie  23:59       Gilbert Chan   \n",
       "3      s4    Movie      9        Shane Acker   \n",
       "4      s5    Movie     21     Robert Luketic   \n",
       "\n",
       "                                                Cast        Country  \\\n",
       "0  João Miguel, Bianca Comparato, Michel Gomes, R...         Brazil   \n",
       "1  Demián Bichir, Héctor Bonilla, Oscar Serrano, ...         Mexico   \n",
       "2  Tedd Chan, Stella Chung, Henley Hii, Lawrence ...      Singapore   \n",
       "3  Elijah Wood, John C. Reilly, Jennifer Connelly...  United States   \n",
       "4  Jim Sturgess, Kevin Spacey, Kate Bosworth, Aar...  United States   \n",
       "\n",
       "        Release_Date Rating   Duration  \\\n",
       "0    August 14, 2020  TV-MA  4 Seasons   \n",
       "1  December 23, 2016  TV-MA     93 min   \n",
       "2  December 20, 2018      R     78 min   \n",
       "3  November 16, 2017  PG-13     80 min   \n",
       "4    January 1, 2020  PG-13    123 min   \n",
       "\n",
       "                                                Type  \\\n",
       "0  International TV Shows, TV Dramas, TV Sci-Fi &...   \n",
       "1                       Dramas, International Movies   \n",
       "2                Horror Movies, International Movies   \n",
       "3  Action & Adventure, Independent Movies, Sci-Fi...   \n",
       "4                                             Dramas   \n",
       "\n",
       "                                         Description  \n",
       "0  In a future where the elite inhabit an island ...  \n",
       "1  After a devastating earthquake hits Mexico Cit...  \n",
       "2  When an army recruit is found dead, his fellow...  \n",
       "3  In a postapocalyptic world, rag-doll robots hi...  \n",
       "4  A brilliant group of students become card-coun...  "
      ]
     },
     "execution_count": 3,
     "metadata": {},
     "output_type": "execute_result"
    }
   ],
   "source": [
    "df = pd.read_csv(\"Netflix Dataset.csv\")\n",
    "df.head()"
   ]
  },
  {
   "cell_type": "code",
   "execution_count": 4,
   "id": "e91c640a",
   "metadata": {},
   "outputs": [
    {
     "name": "stdout",
     "output_type": "stream",
     "text": [
      "Shape of Dataset: (7789, 11)\n",
      "\n",
      "Columns: ['Show_Id', 'Category', 'Title', 'Director', 'Cast', 'Country', 'Release_Date', 'Rating', 'Duration', 'Type', 'Description']\n",
      "\n",
      "Missing Values:\n",
      " Show_Id            0\n",
      "Category           0\n",
      "Title              0\n",
      "Director        2388\n",
      "Cast             718\n",
      "Country          507\n",
      "Release_Date      10\n",
      "Rating             7\n",
      "Duration           0\n",
      "Type               0\n",
      "Description        0\n",
      "dtype: int64\n"
     ]
    }
   ],
   "source": [
    "print(\"Shape of Dataset:\", df.shape)\n",
    "print(\"\\nColumns:\", df.columns.tolist())\n",
    "print(\"\\nMissing Values:\\n\", df.isnull().sum())"
   ]
  },
  {
   "cell_type": "code",
   "execution_count": 7,
   "id": "8a3339ae",
   "metadata": {},
   "outputs": [],
   "source": [
    "# Convert Release_Date to datetime\n",
    "\n",
    "df['Release_Date'] = pd.to_datetime(df['Release_Date'], errors='coerce')\n",
    "df['Year'] = df['Release_Date'].dt.year"
   ]
  },
  {
   "cell_type": "code",
   "execution_count": 8,
   "id": "f94d7124",
   "metadata": {},
   "outputs": [],
   "source": [
    "# Handle missing values\n",
    "df['Director'] = df['Director'].fillna(\"Unknown\")\n",
    "df['Cast'] = df['Cast'].fillna(\"Unknown\")\n",
    "df['Country'] = df['Country'].fillna(\"Unknown\")\n",
    "df['Rating'] = df['Rating'].fillna(\"Not Rated\")"
   ]
  },
  {
   "cell_type": "code",
   "execution_count": 9,
   "id": "2e7ae733",
   "metadata": {},
   "outputs": [],
   "source": [
    "df['Main_Genre'] = df['Type'].apply(lambda x: x.split(\",\")[0].strip() if pd.notnull(x) else \"Unknown\")"
   ]
  },
  {
   "cell_type": "code",
   "execution_count": 10,
   "id": "165a5f0f",
   "metadata": {},
   "outputs": [
    {
     "data": {
      "text/html": [
       "<div>\n",
       "<style scoped>\n",
       "    .dataframe tbody tr th:only-of-type {\n",
       "        vertical-align: middle;\n",
       "    }\n",
       "\n",
       "    .dataframe tbody tr th {\n",
       "        vertical-align: top;\n",
       "    }\n",
       "\n",
       "    .dataframe thead th {\n",
       "        text-align: right;\n",
       "    }\n",
       "</style>\n",
       "<table border=\"1\" class=\"dataframe\">\n",
       "  <thead>\n",
       "    <tr style=\"text-align: right;\">\n",
       "      <th></th>\n",
       "      <th>Show_Id</th>\n",
       "      <th>Category</th>\n",
       "      <th>Title</th>\n",
       "      <th>Director</th>\n",
       "      <th>Cast</th>\n",
       "      <th>Country</th>\n",
       "      <th>Release_Date</th>\n",
       "      <th>Rating</th>\n",
       "      <th>Duration</th>\n",
       "      <th>Type</th>\n",
       "      <th>Description</th>\n",
       "      <th>Year</th>\n",
       "      <th>Main_Genre</th>\n",
       "    </tr>\n",
       "  </thead>\n",
       "  <tbody>\n",
       "    <tr>\n",
       "      <th>0</th>\n",
       "      <td>s1</td>\n",
       "      <td>TV Show</td>\n",
       "      <td>3%</td>\n",
       "      <td>Unknown</td>\n",
       "      <td>João Miguel, Bianca Comparato, Michel Gomes, R...</td>\n",
       "      <td>Brazil</td>\n",
       "      <td>2020-08-14</td>\n",
       "      <td>TV-MA</td>\n",
       "      <td>4 Seasons</td>\n",
       "      <td>International TV Shows, TV Dramas, TV Sci-Fi &amp;...</td>\n",
       "      <td>In a future where the elite inhabit an island ...</td>\n",
       "      <td>2020.0</td>\n",
       "      <td>International TV Shows</td>\n",
       "    </tr>\n",
       "    <tr>\n",
       "      <th>1</th>\n",
       "      <td>s2</td>\n",
       "      <td>Movie</td>\n",
       "      <td>07:19</td>\n",
       "      <td>Jorge Michel Grau</td>\n",
       "      <td>Demián Bichir, Héctor Bonilla, Oscar Serrano, ...</td>\n",
       "      <td>Mexico</td>\n",
       "      <td>2016-12-23</td>\n",
       "      <td>TV-MA</td>\n",
       "      <td>93 min</td>\n",
       "      <td>Dramas, International Movies</td>\n",
       "      <td>After a devastating earthquake hits Mexico Cit...</td>\n",
       "      <td>2016.0</td>\n",
       "      <td>Dramas</td>\n",
       "    </tr>\n",
       "    <tr>\n",
       "      <th>2</th>\n",
       "      <td>s3</td>\n",
       "      <td>Movie</td>\n",
       "      <td>23:59</td>\n",
       "      <td>Gilbert Chan</td>\n",
       "      <td>Tedd Chan, Stella Chung, Henley Hii, Lawrence ...</td>\n",
       "      <td>Singapore</td>\n",
       "      <td>2018-12-20</td>\n",
       "      <td>R</td>\n",
       "      <td>78 min</td>\n",
       "      <td>Horror Movies, International Movies</td>\n",
       "      <td>When an army recruit is found dead, his fellow...</td>\n",
       "      <td>2018.0</td>\n",
       "      <td>Horror Movies</td>\n",
       "    </tr>\n",
       "    <tr>\n",
       "      <th>3</th>\n",
       "      <td>s4</td>\n",
       "      <td>Movie</td>\n",
       "      <td>9</td>\n",
       "      <td>Shane Acker</td>\n",
       "      <td>Elijah Wood, John C. Reilly, Jennifer Connelly...</td>\n",
       "      <td>United States</td>\n",
       "      <td>2017-11-16</td>\n",
       "      <td>PG-13</td>\n",
       "      <td>80 min</td>\n",
       "      <td>Action &amp; Adventure, Independent Movies, Sci-Fi...</td>\n",
       "      <td>In a postapocalyptic world, rag-doll robots hi...</td>\n",
       "      <td>2017.0</td>\n",
       "      <td>Action &amp; Adventure</td>\n",
       "    </tr>\n",
       "    <tr>\n",
       "      <th>4</th>\n",
       "      <td>s5</td>\n",
       "      <td>Movie</td>\n",
       "      <td>21</td>\n",
       "      <td>Robert Luketic</td>\n",
       "      <td>Jim Sturgess, Kevin Spacey, Kate Bosworth, Aar...</td>\n",
       "      <td>United States</td>\n",
       "      <td>2020-01-01</td>\n",
       "      <td>PG-13</td>\n",
       "      <td>123 min</td>\n",
       "      <td>Dramas</td>\n",
       "      <td>A brilliant group of students become card-coun...</td>\n",
       "      <td>2020.0</td>\n",
       "      <td>Dramas</td>\n",
       "    </tr>\n",
       "  </tbody>\n",
       "</table>\n",
       "</div>"
      ],
      "text/plain": [
       "  Show_Id Category  Title           Director  \\\n",
       "0      s1  TV Show     3%            Unknown   \n",
       "1      s2    Movie  07:19  Jorge Michel Grau   \n",
       "2      s3    Movie  23:59       Gilbert Chan   \n",
       "3      s4    Movie      9        Shane Acker   \n",
       "4      s5    Movie     21     Robert Luketic   \n",
       "\n",
       "                                                Cast        Country  \\\n",
       "0  João Miguel, Bianca Comparato, Michel Gomes, R...         Brazil   \n",
       "1  Demián Bichir, Héctor Bonilla, Oscar Serrano, ...         Mexico   \n",
       "2  Tedd Chan, Stella Chung, Henley Hii, Lawrence ...      Singapore   \n",
       "3  Elijah Wood, John C. Reilly, Jennifer Connelly...  United States   \n",
       "4  Jim Sturgess, Kevin Spacey, Kate Bosworth, Aar...  United States   \n",
       "\n",
       "  Release_Date Rating   Duration  \\\n",
       "0   2020-08-14  TV-MA  4 Seasons   \n",
       "1   2016-12-23  TV-MA     93 min   \n",
       "2   2018-12-20      R     78 min   \n",
       "3   2017-11-16  PG-13     80 min   \n",
       "4   2020-01-01  PG-13    123 min   \n",
       "\n",
       "                                                Type  \\\n",
       "0  International TV Shows, TV Dramas, TV Sci-Fi &...   \n",
       "1                       Dramas, International Movies   \n",
       "2                Horror Movies, International Movies   \n",
       "3  Action & Adventure, Independent Movies, Sci-Fi...   \n",
       "4                                             Dramas   \n",
       "\n",
       "                                         Description    Year  \\\n",
       "0  In a future where the elite inhabit an island ...  2020.0   \n",
       "1  After a devastating earthquake hits Mexico Cit...  2016.0   \n",
       "2  When an army recruit is found dead, his fellow...  2018.0   \n",
       "3  In a postapocalyptic world, rag-doll robots hi...  2017.0   \n",
       "4  A brilliant group of students become card-coun...  2020.0   \n",
       "\n",
       "               Main_Genre  \n",
       "0  International TV Shows  \n",
       "1                  Dramas  \n",
       "2           Horror Movies  \n",
       "3      Action & Adventure  \n",
       "4                  Dramas  "
      ]
     },
     "execution_count": 10,
     "metadata": {},
     "output_type": "execute_result"
    }
   ],
   "source": [
    "df.head()"
   ]
  },
  {
   "cell_type": "code",
   "execution_count": 11,
   "id": "ca2f941d",
   "metadata": {},
   "outputs": [
    {
     "name": "stdout",
     "output_type": "stream",
     "text": [
      "\n",
      "Category Distribution:\n",
      " Category\n",
      "Movie      5379\n",
      "TV Show    2410\n",
      "Name: count, dtype: int64\n"
     ]
    },
    {
     "name": "stderr",
     "output_type": "stream",
     "text": [
      "C:\\Users\\Mohammed Mudasir\\AppData\\Local\\Temp\\ipykernel_57920\\3477002764.py:3: FutureWarning: \n",
      "\n",
      "Passing `palette` without assigning `hue` is deprecated and will be removed in v0.14.0. Assign the `x` variable to `hue` and set `legend=False` for the same effect.\n",
      "\n",
      "  sns.countplot(data=df, x='Category', palette='Set2')\n"
     ]
    },
    {
     "data": {
      "image/png": "[encoded data removed]",
      "text/plain": [
       "<Figure size 800x600 with 1 Axes>"
      ]
     },
     "metadata": {},
     "output_type": "display_data"
    }
   ],
   "source": [
    "print(\"\\nCategory Distribution:\\n\", df['Category'].value_counts())\n",
    "plt.figure(figsize=(8,6))\n",
    "sns.countplot(data=df, x='Category', palette='Set2')\n",
    "plt.title('Distribution of Content Categories on Netflix')\n",
    "plt.xlabel('Category')\n",
    "plt.ylabel('Count')\n",
    "plt.show()"
   ]
  },
  {
   "cell_type": "code",
   "execution_count": 12,
   "id": "5ef7f53e",
   "metadata": {},
   "outputs": [
    {
     "name": "stdout",
     "output_type": "stream",
     "text": [
      "\n",
      "Top 5 Countries:\n",
      " Country\n",
      "United States     2556\n",
      "India              923\n",
      "Unknown            507\n",
      "United Kingdom     397\n",
      "Japan              226\n",
      "Name: count, dtype: int64\n"
     ]
    },
    {
     "name": "stderr",
     "output_type": "stream",
     "text": [
      "C:\\Users\\Mohammed Mudasir\\AppData\\Local\\Temp\\ipykernel_57920\\15949320.py:4: FutureWarning: \n",
      "\n",
      "Passing `palette` without assigning `hue` is deprecated and will be removed in v0.14.0. Assign the `y` variable to `hue` and set `legend=False` for the same effect.\n",
      "\n",
      "  sns.countplot(data=df[df['Country'].isin(top_countries)], y='Country', order=top_countries, palette='Set3')\n"
     ]
    },
    {
     "data": {
      "image/png": "[encoded data removed]",
      "text/plain": [
       "<Figure size 1000x600 with 1 Axes>"
      ]
     },
     "metadata": {},
     "output_type": "display_data"
    }
   ],
   "source": [
    "print(\"\\nTop 5 Countries:\\n\", df['Country'].value_counts().head(5))\n",
    "plt.figure(figsize=(10,6))\n",
    "top_countries = df['Country'].value_counts().nlargest(5).index\n",
    "sns.countplot(data=df[df['Country'].isin(top_countries)], y='Country', order=top_countries, palette='Set3')\n",
    "plt.title('Top 5 Countries by Number of Titles')\n",
    "plt.xlabel('Count')\n",
    "plt.ylabel('Country')\n",
    "plt.show()"
   ]
  },
  {
   "cell_type": "code",
   "execution_count": 13,
   "id": "0da93bbf",
   "metadata": {},
   "outputs": [
    {
     "name": "stdout",
     "output_type": "stream",
     "text": [
      "\n",
      "Dataset covers years from 2008.0 to 2021.0\n"
     ]
    }
   ],
   "source": [
    "print(\"\\nDataset covers years from\", df['Year'].min(), \"to\", df['Year'].max())"
   ]
  },
  {
   "cell_type": "code",
   "execution_count": 14,
   "id": "1abcafc9",
   "metadata": {},
   "outputs": [
    {
     "data": {
      "image/png": "[encoded data removed]",
      "text/plain": [
       "<Figure size 1200x600 with 1 Axes>"
      ]
     },
     "metadata": {},
     "output_type": "display_data"
    }
   ],
   "source": [
    "content_trend = df.groupby(['Year', 'Category']).size().reset_index(name='Count')\n",
    "sns.lineplot(data=content_trend, x='Year', y='Count', hue='Category', marker='o')\n",
    "plt.title('Content Addition Trend on Netflix Over Years')\n",
    "plt.xlabel('Year')\n",
    "plt.ylabel('Number of Titles Added')\n",
    "plt.show()"
   ]
  },
  {
   "cell_type": "code",
   "execution_count": 15,
   "id": "f11764e8",
   "metadata": {},
   "outputs": [
    {
     "name": "stderr",
     "output_type": "stream",
     "text": [
      "C:\\Users\\Mohammed Mudasir\\AppData\\Local\\Temp\\ipykernel_57920\\904772235.py:3: FutureWarning: \n",
      "\n",
      "Passing `palette` without assigning `hue` is deprecated and will be removed in v0.14.0. Assign the `y` variable to `hue` and set `legend=False` for the same effect.\n",
      "\n",
      "  sns.barplot(x=top_genres.values, y=top_genres.index, palette='Set1')\n"
     ]
    },
    {
     "data": {
      "image/png": "[encoded data removed]",
      "text/plain": [
       "<Figure size 1000x600 with 1 Axes>"
      ]
     },
     "metadata": {},
     "output_type": "display_data"
    }
   ],
   "source": [
    "top_genres = df['Main_Genre'].value_counts().head(10)\n",
    "plt.figure(figsize=(10,6))\n",
    "sns.barplot(x=top_genres.values, y=top_genres.index, palette='Set1')\n",
    "plt.title('Top 10 Genres on Netflix')\n",
    "plt.xlabel('Count')\n",
    "plt.ylabel('Genre')\n",
    "plt.show()"
   ]
  },
  {
   "cell_type": "code",
   "execution_count": 16,
   "id": "cb5da5af",
   "metadata": {},
   "outputs": [
    {
     "data": {
      "image/png": "[encoded data removed]",
      "text/plain": [
       "<Figure size 1200x700 with 1 Axes>"
      ]
     },
     "metadata": {},
     "output_type": "display_data"
    }
   ],
   "source": [
    "top_countries = df['Country'].value_counts().head(10).index\n",
    "country_data = df[df['Country'].isin(top_countries)]\n",
    "stacked = country_data.groupby(['Country', 'Category']).size().unstack(fill_value=0)\n",
    "stacked.plot(kind='bar', stacked=True, colormap='tab20', figsize=(12,7))\n",
    "plt.title('Content Category Distribution by Top 10 Countries')\n",
    "plt.xlabel('Country')\n",
    "plt.ylabel('Number of Titles')\n",
    "plt.legend(title='Category')\n",
    "plt.show()"
   ]
  },
  {
   "cell_type": "code",
   "execution_count": 22,
   "id": "aa9eb695",
   "metadata": {},
   "outputs": [
    {
     "name": "stderr",
     "output_type": "stream",
     "text": [
      "C:\\Users\\Mohammed Mudasir\\AppData\\Local\\Temp\\ipykernel_57920\\2632086982.py:3: DeprecationWarning:\n",
      "\n",
      "The library used by the *country names* `locationmode` option is changing in an upcoming version. Country names in existing plots may not work in the new version. To ensure consistent behavior, consider setting `locationmode` to *ISO-3*.\n",
      "\n"
     ]
    },
    {
     "data": {
      "application/vnd.plotly.v1+json": {
       "config": {
        "plotlyServerURL": "https://plot.ly"
       },
       "data": [
        {
         "coloraxis": "coloraxis",
         "geo": "geo",
         "hovertemplate": "Country=%{location}<br>Count=%{z}<extra></extra>",
         "locationmode": "country names",
         "locations": [
          "United States",
          "India",
          "Unknown",
          "United Kingdom",
          "Japan",
          "South Korea",
          "Canada",
          "Spain",
          "France",
          "Egypt",
          "Mexico",
          "Turkey",
          "Australia",
          "Taiwan",
          "Brazil",
          "Nigeria",
          "Philippines",
          "Indonesia",
          "United Kingdom, United States",
          "Germany",
          "United States, Canada",
          "Thailand",
          "China",
          "Hong Kong",
          "Argentina",
          "Canada, United States",
          "Italy",
          "United States, United Kingdom",
          "Colombia",
          "France, Belgium",
          "South Africa",
          "Singapore",
          "Malaysia",
          "Poland",
          "Pakistan",
          "Netherlands",
          "Hong Kong, China",
          "Russia",
          "Chile",
          "United States, France",
          "Lebanon",
          "China, Hong Kong",
          "Mexico, United States",
          "Denmark",
          "United States, Japan",
          "Israel",
          "United Arab Emirates",
          "United States, Germany",
          "United States, Mexico",
          "Ireland",
          "New Zealand",
          "United States, Australia",
          "Norway",
          "Sweden",
          "Germany, United States",
          "Australia, United States",
          "India, United States",
          "Japan, United States",
          "Belgium",
          "United States, India",
          "Argentina, Spain",
          "Saudi Arabia",
          "United States, China",
          "France, United States",
          "Kuwait",
          "United States, France, Japan",
          "United Kingdom, Canada, United States",
          "United Kingdom, France",
          "Romania",
          "South Korea, United States",
          "Vietnam",
          "United States, Czech Republic",
          "United States, Italy",
          "Italy, France",
          "Spain, France",
          "India, France",
          "Iceland",
          "United Kingdom, Japan, United States",
          "South Africa, United States",
          "Hungary",
          "Peru",
          "United Kingdom, France, United States",
          "Poland, United States",
          "United Kingdom, Canada",
          "Hong Kong, United States",
          "Mexico, Spain",
          "United Kingdom, Germany",
          "United Kingdom, United States, Spain, Germany, Greece, Canada",
          "United States, Spain",
          "United States, United Kingdom, Australia",
          "Austria",
          "France, United Kingdom, United States",
          "France, Canada",
          "Ghana",
          "United States, United Kingdom, France",
          "Israel, United States",
          "United States, New Zealand",
          "Canada, United States, United Kingdom",
          "United States, Russia",
          "Bulgaria, United States",
          "Italy, United States",
          "United States, Sweden",
          "United States, United Arab Emirates",
          "United States, Bulgaria",
          "Sweden, United States",
          "United States, Ireland",
          "Spain, Germany",
          "Denmark, United States",
          "United States, South Africa",
          "Belgium, France",
          "United States, Hong Kong",
          "Uruguay",
          "France, Egypt",
          "New Zealand, United States",
          "United Kingdom, Nigeria",
          "United Kingdom, United States, Australia",
          "Canada, United Kingdom",
          "Germany, United Kingdom",
          "Ireland, United Kingdom",
          "Indonesia, Singapore",
          "United Kingdom, India",
          "China, Canada, United States",
          "Egypt, France",
          "United States, South Korea, China",
          "Canada, India",
          "Colombia, Mexico, United States",
          "United States, Argentina",
          "United States, Japan, Canada",
          "Bangladesh",
          "Spain, United Kingdom",
          "United States, United Kingdom, Germany",
          "Canada, United States, France",
          "United States, Canada, United Kingdom",
          "United States, Greece",
          "Pakistan, United States",
          "Ukraine",
          "India, Soviet Union",
          "Hong Kong, China, United States",
          "Canada, United Kingdom, United States",
          "Netherlands, Belgium",
          "Thailand, United States",
          "Brazil, France",
          "Spain, Argentina",
          "United Kingdom, India, United States",
          "United Kingdom, Italy",
          "Australia, United Arab Emirates",
          "Spain, Mexico",
          "Czech Republic, United States",
          "Canada, Australia",
          "Switzerland",
          "China, United States",
          "United Kingdom, Ireland",
          "India, Germany",
          "Australia, Canada",
          "France, South Korea, Japan",
          "Lebanon, Canada, France",
          "Kenya",
          "United States, Chile",
          "Ireland, United Kingdom, United States",
          "Spain, Italy",
          "United States, Germany, Canada",
          "United Arab Emirates, United States",
          "Serbia, United States",
          "Turkey, United States",
          "Singapore, United States",
          "South Africa, Angola",
          "United States, United Kingdom, Spain, South Korea",
          "Canada, Mexico, Germany, South Africa",
          "Hong Kong, Taiwan",
          "United Kingdom, United States, Canada",
          "India, Australia",
          "Sweden, United Kingdom, Finland",
          "United States, United Kingdom, Canada, Japan",
          "Australia, India",
          "Austria, Czech Republic",
          "France, Norway, Lebanon, Belgium",
          "Singapore, Malaysia",
          "Australia, France, Ireland",
          "Israel, Germany, France",
          "Germany, France, United States, Canada, United Kingdom",
          "Senegal",
          "Guatemala",
          "United States, Germany, Australia",
          "Ireland, Canada, United Kingdom, United States",
          "Peru, Germany, Norway",
          "Austria, Iraq, United States",
          "India, Canada",
          "United States, Uruguay",
          "South Korea, China, United States",
          "United Kingdom, Germany, United Arab Emirates, New Zealand",
          "United Kingdom, Ireland, United States",
          "United States, United Kingdom, Canada, China",
          "United States, Denmark",
          "Australia, United Kingdom",
          "France, United States, Canada",
          "Australia, United Kingdom, United States, New Zealand, Italy, France",
          "Jamaica, United States",
          "United States, Hungary",
          "United Kingdom,",
          "Australia, United Kingdom, Canada",
          "Czech Republic, United Kingdom, France",
          "Saudi Arabia, Netherlands, Germany, Jordan, United Arab Emirates, United States",
          "South Korea, Czech Republic",
          "United Kingdom, France, Germany, United States",
          "United Kingdom, New Zealand",
          "China, Hong Kong, United States",
          "Thailand, Canada, United States",
          "Switzerland, United States",
          "India, Malaysia",
          "France, Brazil, Spain, Belgium",
          "United States, Colombia",
          "Canada, France, United States",
          "Italy, France, Switzerland",
          "United States, Brazil, India, Uganda, China",
          "United States, Germany, United Kingdom, Australia",
          "South Africa, United States, Germany",
          "United Kingdom, Finland, Germany",
          "Italy, South Africa, West Germany, Australia, United States",
          "Singapore, Japan, France",
          "United Kingdom, France, United States, Belgium",
          "Norway, Denmark",
          "Saudi Arabia, United Arab Emirates",
          "Croatia, Slovenia, Serbia, Montenegro",
          "Venezuela, Colombia",
          "United Kingdom, Thailand",
          "France, Belgium, Italy",
          "Canada, United States, Germany",
          "Spain, Colombia",
          "China, Morocco, Hong Kong",
          "United Kingdom, Ukraine, United States",
          "Australia, Iraq",
          "Denmark, France, United States, Sweden",
          "Egypt, Austria, United States",
          "India, Germany, Austria",
          "Brazil, India, China, United States",
          "Russia, Spain",
          "Denmark, Brazil, France, Portugal, Sweden",
          "India, Nepal",
          "Germany, Czech Republic",
          "Japan, Canada",
          "United States, France, South Korea, Indonesia",
          "United Kingdom, Singapore",
          "United States, Ireland, United Kingdom, India",
          "United Arab Emirates, Jordan",
          "Norway, Sweden",
          "France, Switzerland, Spain, United States, United Arab Emirates",
          "Denmark, Germany, Belgium, United Kingdom, France, Sweden",
          "Denmark, Germany, Belgium, United Kingdom, France",
          "United States, India, South Korea, China",
          "Netherlands, United States",
          "United Kingdom, United States, Japan",
          "France, Luxembourg, Canada",
          "France, Netherlands, South Africa, Finland",
          "South Korea, Canada, United States, China",
          "Portugal, France, Poland, United States",
          "Denmark, United Kingdom, Sweden",
          "Peru, United States, United Kingdom",
          "United States, Mexico, Spain, Malta",
          "Germany, United States, United Kingdom, Canada",
          "United States, Morocco",
          "Canada, Japan, United States",
          "Uruguay, Argentina, Germany, Spain",
          "India, Switzerland",
          "United States, Netherlands, Japan, France",
          "France, Luxembourg, United States",
          "United Kingdom, Spain",
          "United States, New Zealand, Japan",
          "France, Japan, United States",
          "Switzerland, Vatican City, Italy, Germany, France",
          "Colombia, United States",
          "Canada, United States, Ireland",
          "Canada, India, Thailand, United States, United Arab Emirates",
          "United States, Norway, Canada",
          "United Kingdom, Kenya",
          "Spain, United Kingdom, United States",
          "Romania, Bulgaria, Hungary",
          "United States, East Germany, West Germany",
          "France, United Kingdom",
          "Pakistan, United Arab Emirates",
          "Canada, Hungary, United States",
          "Germany, China, United Kingdom",
          "France, Germany, Czech Republic, Belgium",
          "Colombia, Mexico",
          "United Kingdom, France, Canada, Belgium, United States",
          "Cyprus",
          "Belarus",
          "United Kingdom, Egypt, United States",
          "Spain, Italy, Argentina",
          "Germany, Italy",
          "Chile, Spain, Argentina, Germany",
          "United States, Germany, Mexico",
          "Italy, Belgium",
          "United States, Australia, South Africa, United Kingdom",
          "United Kingdom, Germany, United States",
          "Argentina, Uruguay, Spain, France",
          "Germany, United States, Italy",
          "Denmark, Indonesia, Finland, Norway, United Kingdom, Israel, France, United States, Germany, Netherlands",
          "Ireland, United Kingdom, Greece, France, Netherlands",
          "France, Lebanon",
          "Netherlands, Germany, Denmark, United Kingdom",
          "United States, Venezuela",
          "France, Canada, Italy, United States, China",
          "Norway, Germany",
          "United Kingdom, Italy, Israel, Peru, United States",
          "Paraguay, Argentina",
          "Chile, Peru",
          "Germany, United States, France",
          "Belgium, Ireland, Netherlands, Germany, Afghanistan",
          "Lebanon, France",
          "United Kingdom, Canada, Japan",
          "United Kingdom, Hungary, Australia",
          "United States, Israel, United Kingdom, Canada",
          "India, Germany, France",
          "Canada, Germany, South Africa",
          "Spain, Thailand, United States",
          "United Kingdom, Canada, France, United States",
          "Mexico, Netherlands",
          "Belgium, United Kingdom, United States",
          "Australia, New Zealand",
          "United States, United Kingdom, India",
          "United Kingdom, France, United States, Belgium, Luxembourg, China, Germany",
          "United States, France, Canada, Belgium",
          "United Kingdom, Spain, United States, Germany",
          "United States, Belgium, Canada",
          "India, United Kingdom, Canada, United States",
          "United States, France, Italy, United Kingdom",
          "Spain, France, Canada, United States",
          "Canada, Germany",
          "Ireland, South Africa",
          "Germany, Canada, United States",
          "Georgia",
          "Denmark, United Kingdom, South Africa, Sweden, Belgium",
          "Serbia, South Korea, Slovenia",
          "United Kingdom, Spain, Belgium",
          "Spain, Switzerland",
          "Ireland, Canada, United States, United Kingdom",
          "United States, Canada, Japan, Panama",
          "New Zealand, United Kingdom, Australia",
          "Spain, United States",
          "Ireland, France, Iceland, United States, Mexico, Belgium, United Kingdom, Hong Kong",
          "Somalia, Kenya, Sudan, South Africa, United States",
          "Croatia",
          "United States, Poland",
          "France, Iran, United States",
          "United Arab Emirates, Romania",
          "Canada, South Korea, United States",
          "United Kingdom, Australia, Canada, United States",
          "Indonesia, United States",
          "United States, India, United Arab Emirates",
          "Canada, Belgium",
          "Spain, Canada, United States",
          "France, Belgium, United States",
          "Ireland, Canada, Luxembourg, United States, United Kingdom, Philippines, India",
          "United States, Brazil, South Korea, Mexico, Japan, Germany",
          "France, Lebanon, United Kingdom",
          "United Kingdom, Jordan, Qatar, Iran",
          "United Kingdom, Malawi",
          "United States, Canada, China",
          "United States, Hungary, Ireland, Canada",
          "Canada, Norway",
          "United States, United Kingdom, France, Germany, Japan",
          "Chile, France",
          "Switzerland, United Kingdom, United States",
          "Belgium, Netherlands",
          "France, Canada, United States",
          "Spain, France, Uruguay",
          "Ghana, United States",
          "Finland, United States",
          "United Kingdom, Germany, France, United States",
          "Romania, United Kingdom",
          "United States, New Zealand, United Kingdom",
          "United States, Germany, United Kingdom, Italy",
          "United States, Germany, United Kingdom",
          "Argentina, France, United States, Germany, Qatar",
          "United States, Kazakhstan",
          "Lebanon, Qatar",
          "United Kingdom, India, Sweden",
          "United Kingdom, Belgium",
          "Lebanon, United States, United Arab Emirates",
          "India, Pakistan",
          "United States, Czech Republic, United Kingdom",
          "Israel, Germany",
          "United States, China, Canada",
          "United Kingdom, France, Belgium, Canada, United States",
          "Canada, Japan, Netherlands",
          "United States, United Kingdom, Morocco",
          "United Kingdom, United States, Morocco",
          "United States, Sweden, Norway",
          "Taiwan, Malaysia",
          "United Kingdom, China, United States, India",
          "United States, Greece, United Kingdom",
          "Spain, France, Canada",
          "United Kingdom, Lithuania",
          "United Kingdom, United States, Czech Republic",
          "United Kingdom, Germany, United States, France",
          "Czech Republic, Slovakia",
          "Argentina, Chile",
          "United Kingdom, China, United States",
          "Canada, United States, India, United Kingdom",
          "Greece, United States",
          "United Kingdom, Brazil, Germany",
          "Austria, United States",
          "United Kingdom, United States, Germany, Denmark, Belgium, Japan",
          "United States, Malta, France, United Kingdom",
          "France, Germany",
          "Israel, Germany, Poland, Luxembourg, Belgium, France, United States",
          "Thailand, China, United States",
          "France, Belgium, Luxembourg, Romania, Canada, United States",
          "Brazil, United Kingdom",
          "United Kingdom, Namibia, South Africa, Zimbabwe, United States",
          "Mexico, France",
          "United Kingdom, South Africa, Australia, United States",
          "Spain, Germany, Denmark, United States",
          "China, United States, Australia",
          "United States, Nigeria",
          "China, Germany, India, United States",
          "Germany, France, Luxembourg, United Kingdom, United States",
          "Italy, United States, Argentina",
          "Mexico, Argentina",
          "France, Germany, Switzerland",
          "Germany, United States, Hong Kong, Singapore",
          "Australia, New Zealand, United States",
          "Turkey, France, Germany, Poland",
          "United States,",
          "Brazil, France, Germany",
          "Taiwan, China, France, United States",
          "United States, Canada, France",
          "United States, India, Bangladesh",
          "Canada, United States, Cayman Islands",
          "Germany, Sri Lanka",
          "United States, Australia, China",
          "Czech Republic, France",
          "United Kingdom, Czech Republic, United States, Germany, Bahamas",
          "France, New Zealand",
          "United Kingdom, Pakistan",
          "France, Malta, United States",
          "Philippines, Canada, United Kingdom, United States",
          "South Korea, Japan",
          "Netherlands, Denmark, France, Germany",
          "United Kingdom, China",
          "United States, Israel, Italy, South Africa",
          "United States, Canada, Ireland",
          "India, United Kingdom",
          "United Kingdom, Russia",
          "Denmark, Spain",
          "Finland, France",
          "United Kingdom, Canada, Italy",
          "Zimbabwe",
          "Puerto Rico, United States, Colombia",
          "France, Algeria",
          "Argentina, Uruguay, Serbia",
          "Venezuela",
          "United States, Canada, Belgium, United Kingdom",
          "Philippines, Singapore",
          "Pakistan, Norway, United States",
          "China, United States, United Kingdom",
          "Chile, Argentina",
          "Germany, Belgium",
          "France, China, Japan, United States",
          "Russia, Poland, Serbia",
          "United Kingdom, Czech Republic, Germany, United States",
          "United States, Australia, Mexico",
          "Denmark, France, Belgium, Italy, Netherlands, United States, United Kingdom",
          "United States, Italy, United Kingdom, Liechtenstein",
          "France, Qatar",
          "United Kingdom, France, Germany, Spain",
          "South Africa, United States, New Zealand, Canada",
          "Finland, Sweden, Norway, Latvia, Germany",
          "United Kingdom, South Africa",
          "Denmark, Zimbabwe",
          "Spain, Belgium, Switzerland, United States, China, United Kingdom",
          "United States, Thailand",
          "Finland, Germany",
          "Philippines, United States",
          "Bulgaria",
          "United Kingdom, Poland, United States",
          "Germany, Australia",
          "United Kingdom, Australia",
          "Canada, Brazil",
          "Taiwan, Hong Kong, United States, China",
          "Norway, Germany, Sweden",
          "United Arab Emirates, United Kingdom, India",
          "United States, Iceland",
          "Uruguay, Argentina, Spain",
          "Ireland, Canada",
          "Iceland, Sweden, Belgium",
          "Canada, Nigeria",
          "Canada, Luxembourg",
          "United Kingdom, France, Germany",
          "Soviet Union, India",
          "Egypt, Algeria",
          "Uruguay, Argentina",
          "Mauritius, South Africa",
          "Germany, France, Russia",
          "Hong Kong, Iceland, United States",
          "Australia, France",
          "United Kingdom, United States, France, Germany",
          "Singapore, France",
          "Argentina, Brazil, France, Poland, Germany, Denmark",
          "Denmark, Sweden, Israel, United States",
          "United Kingdom, France, Belgium, United States, China",
          "Iran, France",
          "United Kingdom, Hong Kong",
          "United Kingdom, Spain, United States",
          "France, Netherlands, Singapore",
          "Netherlands, Denmark, South Africa",
          "New Zealand, United Kingdom",
          "Denmark, France, Poland",
          "United States, France, Serbia",
          "South Africa, China, United States",
          "Hong Kong, China, Singapore",
          "Portugal, Spain",
          "South Africa, Nigeria",
          "Norway, Iceland, United States",
          "Finland",
          "China, Spain, South Korea, United States",
          "Spain, Belgium",
          "United Kingdom, Canada, United States, Germany",
          "France, Belgium, Spain",
          "Argentina, United States",
          "Germany, Jordan, Netherlands",
          "United Kingdom, Russia, United States",
          "Russia, United States",
          "Saudi Arabia, Syria, Egypt, Lebanon, Kuwait",
          "Ireland, Luxembourg, Belgium",
          "Philippines, Qatar",
          "Turkey, India",
          "India, Iran",
          "United States, Canada, Indonesia, United Kingdom, China, Singapore",
          "South Korea, China",
          "Uruguay, Spain, Mexico",
          "Mexico, Finland",
          "Namibia",
          "Norway, Denmark, Netherlands, Sweden",
          "Australia, Armenia, Japan, Jordan, Mexico, Mongolia, New Zealand, Philippines, South Africa, Sweden, United States, Uruguay",
          "Japan, Canada, United States",
          "Australia, United Kingdom, United Arab Emirates, Canada",
          "France, United States, Mexico",
          "Sweden, Netherlands",
          "Bulgaria, United States, Spain, Canada",
          "Romania, France, Switzerland, Germany",
          "Canada, France",
          "France, Senegal, Belgium",
          "Indonesia, South Korea, Singapore",
          "India, United Kingdom, China, Canada, Japan, South Korea, United States",
          "France, Canada, Belgium",
          "Brazil, Netherlands, United States, Colombia, Austria, Germany",
          "United States, Mexico, Colombia",
          "Colombia, Peru, United Kingdom",
          "Brazil, United States",
          "United Kingdom, Belgium, Sweden",
          "China, United Kingdom",
          "Canada, South Africa",
          "United States, Australia, Samoa, United Kingdom",
          "South Korea, France",
          "United States, Greece, Brazil",
          "United States, Philippines",
          "Norway, United States",
          "Malaysia, Singapore, Hong Kong",
          "Denmark, China",
          "Denmark, Singapore, Canada, United States",
          "Netherlands, Belgium, Germany, Jordan",
          "United States, Taiwan",
          "United Kingdom, South Korea",
          "Nigeria, United Kingdom",
          "Mexico, United States, Spain, Colombia",
          "Finland, Germany, Belgium",
          "China, India, Nepal",
          "Norway, Denmark, Sweden",
          "United Kingdom, Norway, Denmark, Germany, Sweden",
          "United States, Chile, Israel",
          "France, Belgium, China, United States",
          "Netherlands, Belgium, United Kingdom, United States",
          "Indonesia, Netherlands",
          "United States, France, Canada, Lebanon, Qatar",
          "United Kingdom, Germany, Canada, United States",
          "Germany, United States, Canada",
          "Jordan",
          "Ireland, United States, France",
          "Spain, Portugal",
          "Cambodia",
          "Argentina, Chile, Peru",
          "Uruguay, Germany",
          "Turkey, Azerbaijan",
          "United States, China, Hong Kong",
          "Chile, Argentina, France, Spain, United States",
          "United States, Colombia, Mexico",
          "United States, Botswana",
          "Italy, India",
          "Turkey, South Korea",
          "Switzerland, France",
          "Georgia, Germany, France",
          "France, Morocco",
          "Chile, United States, France",
          "Israel, Sweden, Germany, Netherlands",
          "United Kingdom, West Germany",
          "India, Mexico",
          "United Kingdom, Poland",
          "United States, Bermuda, Ecuador",
          "Norway, United Kingdom, France, Ireland",
          "United States, Spain, Italy",
          "United States, China, Colombia",
          "United States, Cambodia",
          "Netherlands, Germany, Italy, Canada",
          "France, Japan",
          "United Kingdom, France, Belgium, United States",
          "Canada, Spain",
          "Germany, United States, Sweden",
          "Poland, West Germany",
          "Italy, United Kingdom, France",
          "China, Taiwan",
          "France, United Kingdom, India",
          "Argentina, United States, Mexico",
          "Canada, Germany, France, United States",
          "Taiwan, China",
          "Canada, United States, United Kingdom, France, Luxembourg",
          "Canada, France, Italy, Morocco, United States",
          "United States, France, Mexico",
          "United States, United Kingdom, Denmark, Sweden",
          "United States, France, United Kingdom, Japan",
          "Italy, Germany",
          "United Kingdom, Canada, United States, Cayman Islands",
          "United Kingdom, Denmark, Canada, Croatia",
          "Italy, Canada, France",
          "United States, South Korea",
          "Kenya, United States",
          "India, Turkey",
          "Italy, Turkey",
          "France, Belgium, Luxembourg, Cambodia,",
          "United Arab Emirates, Jordan, Lebanon",
          "Austria, Germany",
          "United States, Nicaragua",
          "United States, Brazil",
          "South Africa, Germany, Netherlands, France",
          "Spain, Cuba",
          "Italy, Switzerland, Albania, Poland",
          "United Kingdom, Israel, Russia",
          "Argentina, Italy",
          "United Arab Emirates, United States, United Kingdom",
          "China, Japan",
          "Cambodia, United States",
          "United States, France, Canada",
          "Spain, France, United States",
          "Spain, France, Italy",
          "Spain, Mexico, France",
          "United States, Indonesia",
          "France, Canada, China, Cambodia",
          "Canada, Spain, France",
          "United States, United Kingdom, Italy",
          "United States, France, Canada, Spain",
          "Uruguay, Guatemala",
          "Germany, Australia, France, China",
          "Argentina, France",
          "United Kingdom, Germany, Canada",
          "Germany, United Kingdom, United States",
          "United States, Senegal",
          "United Kingdom, United States, Dominican Republic",
          "Canada, Ireland, United States",
          "United Kingdom, France, Belgium",
          "China, South Korea, United States",
          "Switzerland, France, Belgium, United States",
          "India, Japan",
          "United States, Spain, Germany",
          "Indonesia, United Kingdom",
          "United Kingdom, United States, France",
          "Canada, United Kingdom, Netherlands",
          "Slovenia, Croatia, Germany, Czech Republic, Qatar",
          "Poland,",
          "Ireland, United Kingdom, Italy, United States",
          "Chile, Italy",
          "West Germany",
          "Romania, United States",
          "United States, South Korea, Japan",
          "Lebanon, United Arab Emirates, France, Switzerland, Germany",
          "France, Australia, Germany",
          "Ireland, United States",
          "United States, Canada, Germany",
          "Russia, United States, China",
          "Italy, Switzerland, France, Germany",
          "United States, United Kingdom, Canada",
          "United States, United Kingdom, Japan",
          "Sweden, Czech Republic, United Kingdom, Denmark, Netherlands"
         ],
         "name": "",
         "type": "choropleth",
         "z": {
          "bdata": "/AmbA/sBjQHiALcAsQCGAHMAZQBkAGQAUwBOAEgARwBHAEYAQAA9ADwAOQA5ADQAMgAqACgAJQAfABsAGQAXABYAFAASABAAEAAQAA4ADgAOAA4ADgANAA0ADAAMAAwACwALAAsACwALAAoACgAKAAkACQAIAAgACAAHAAcABgAGAAYABgAGAAYABQAFAAUABQAFAAUABQAEAAQABAAEAAQABAAEAAQABAAEAAQABAAEAAQABAADAAMAAwADAAMAAwADAAMAAwADAAMAAwADAAMAAwADAAMAAwADAAMAAwADAAIAAgACAAIAAgACAAIAAgACAAIAAgACAAIAAgACAAIAAgACAAIAAgACAAIAAgACAAIAAgACAAIAAgACAAIAAgACAAIAAgACAAIAAgACAAIAAgACAAIAAgACAAIAAgACAAIAAgACAAIAAQABAAEAAQABAAEAAQABAAEAAQABAAEAAQABAAEAAQABAAEAAQABAAEAAQABAAEAAQABAAEAAQABAAEAAQABAAEAAQABAAEAAQABAAEAAQABAAEAAQABAAEAAQABAAEAAQABAAEAAQABAAEAAQABAAEAAQABAAEAAQABAAEAAQABAAEAAQABAAEAAQABAAEAAQABAAEAAQABAAEAAQABAAEAAQABAAEAAQABAAEAAQABAAEAAQABAAEAAQABAAEAAQABAAEAAQABAAEAAQABAAEAAQABAAEAAQABAAEAAQABAAEAAQABAAEAAQABAAEAAQABAAEAAQABAAEAAQABAAEAAQABAAEAAQABAAEAAQABAAEAAQABAAEAAQABAAEAAQABAAEAAQABAAEAAQABAAEAAQABAAEAAQABAAEAAQABAAEAAQABAAEAAQABAAEAAQABAAEAAQABAAEAAQABAAEAAQABAAEAAQABAAEAAQABAAEAAQABAAEAAQABAAEAAQABAAEAAQABAAEAAQABAAEAAQABAAEAAQABAAEAAQABAAEAAQABAAEAAQABAAEAAQABAAEAAQABAAEAAQABAAEAAQABAAEAAQABAAEAAQABAAEAAQABAAEAAQABAAEAAQABAAEAAQABAAEAAQABAAEAAQABAAEAAQABAAEAAQABAAEAAQABAAEAAQABAAEAAQABAAEAAQABAAEAAQABAAEAAQABAAEAAQABAAEAAQABAAEAAQABAAEAAQABAAEAAQABAAEAAQABAAEAAQABAAEAAQABAAEAAQABAAEAAQABAAEAAQABAAEAAQABAAEAAQABAAEAAQABAAEAAQABAAEAAQABAAEAAQABAAEAAQABAAEAAQABAAEAAQABAAEAAQABAAEAAQABAAEAAQABAAEAAQABAAEAAQABAAEAAQABAAEAAQABAAEAAQABAAEAAQABAAEAAQABAAEAAQABAAEAAQABAAEAAQABAAEAAQABAAEAAQABAAEAAQABAAEAAQABAAEAAQABAAEAAQABAAEAAQABAAEAAQABAAEAAQABAAEAAQABAAEAAQABAAEAAQABAAEAAQABAAEAAQABAAEAAQABAAEAAQABAAEAAQABAAEAAQABAAEAAQABAAEAAQABAAEAAQABAAEAAQABAAEAAQABAAEAAQABAAEAAQABAAEAAQABAAEAAQABAAEAAQABAAEAAQABAAEAAQABAAEAAQABAAEAAQABAAEAAQABAAEAAQABAAEAAQABAAEAAQABAAEAAQABAAEAAQABAAEAAQABAAEAAQABAAEAAQABAAEAAQABAAEAAQABAAEAAQABAAEAAQABAAEAAQABAAEAAQABAAEAAQA=",
          "dtype": "i2"
         }
        }
       ],
       "layout": {
        "coloraxis": {
         "colorbar": {
          "title": {
           "text": "Count"
          }
         },
         "colorscale": [
          [
           0,
           "#440154"
          ],
          [
           0.1111111111111111,
           "#482878"
          ],
          [
           0.2222222222222222,
           "#3e4989"
          ],
          [
           0.3333333333333333,
           "#31688e"
          ],
          [
           0.4444444444444444,
           "#26828e"
          ],
          [
           0.5555555555555556,
           "#1f9e89"
          ],
          [
           0.6666666666666666,
           "#35b779"
          ],
          [
           0.7777777777777778,
           "#6ece58"
          ],
          [
           0.8888888888888888,
           "#b5de2b"
          ],
          [
           1,
           "#fde725"
          ]
         ]
        },
        "geo": {
         "center": {},
         "domain": {
          "x": [
           0,
           1
          ],
          "y": [
           0,
           1
          ]
         }
        },
        "legend": {
         "tracegroupgap": 0
        },
        "template": {
         "data": {
          "bar": [
           {
            "error_x": {
             "color": "#2a3f5f"
            },
            "error_y": {
             "color": "#2a3f5f"
            },
            "marker": {
             "line": {
              "color": "#E5ECF6",
              "width": 0.5
             },
             "pattern": {
              "fillmode": "overlay",
              "size": 10,
              "solidity": 0.2
             }
            },
            "type": "bar"
           }
          ],
          "barpolar": [
           {
            "marker": {
             "line": {
              "color": "#E5ECF6",
              "width": 0.5
             },
             "pattern": {
              "fillmode": "overlay",
              "size": 10,
              "solidity": 0.2
             }
            },
            "type": "barpolar"
           }
          ],
          "carpet": [
           {
            "aaxis": {
             "endlinecolor": "#2a3f5f",
             "gridcolor": "white",
             "linecolor": "white",
             "minorgridcolor": "white",
             "startlinecolor": "#2a3f5f"
            },
            "baxis": {
             "endlinecolor": "#2a3f5f",
             "gridcolor": "white",
             "linecolor": "white",
             "minorgridcolor": "white",
             "startlinecolor": "#2a3f5f"
            },
            "type": "carpet"
           }
          ],
          "choropleth": [
           {
            "colorbar": {
             "outlinewidth": 0,
             "ticks": ""
            },
            "type": "choropleth"
           }
          ],
          "contour": [
           {
            "colorbar": {
             "outlinewidth": 0,
             "ticks": ""
            },
            "colorscale": [
             [
              0,
              "#0d0887"
             ],
             [
              0.1111111111111111,
              "#46039f"
             ],
             [
              0.2222222222222222,
              "#7201a8"
             ],
             [
              0.3333333333333333,
              "#9c179e"
             ],
             [
              0.4444444444444444,
              "#bd3786"
             ],
             [
              0.5555555555555556,
              "#d8576b"
             ],
             [
              0.6666666666666666,
              "#ed7953"
             ],
             [
              0.7777777777777778,
              "#fb9f3a"
             ],
             [
              0.8888888888888888,
              "#fdca26"
             ],
             [
              1,
              "#f0f921"
             ]
            ],
            "type": "contour"
           }
          ],
          "contourcarpet": [
           {
            "colorbar": {
             "outlinewidth": 0,
             "ticks": ""
            },
            "type": "contourcarpet"
           }
          ],
          "heatmap": [
           {
            "colorbar": {
             "outlinewidth": 0,
             "ticks": ""
            },
            "colorscale": [
             [
              0,
              "#0d0887"
             ],
             [
              0.1111111111111111,
              "#46039f"
             ],
             [
              0.2222222222222222,
              "#7201a8"
             ],
             [
              0.3333333333333333,
              "#9c179e"
             ],
             [
              0.4444444444444444,
              "#bd3786"
             ],
             [
              0.5555555555555556,
              "#d8576b"
             ],
             [
              0.6666666666666666,
              "#ed7953"
             ],
             [
              0.7777777777777778,
              "#fb9f3a"
             ],
             [
              0.8888888888888888,
              "#fdca26"
             ],
             [
              1,
              "#f0f921"
             ]
            ],
            "type": "heatmap"
           }
          ],
          "histogram": [
           {
            "marker": {
             "pattern": {
              "fillmode": "overlay",
              "size": 10,
              "solidity": 0.2
             }
            },
            "type": "histogram"
           }
          ],
          "histogram2d": [
           {
            "colorbar": {
             "outlinewidth": 0,
             "ticks": ""
            },
            "colorscale": [
             [
              0,
              "#0d0887"
             ],
             [
              0.1111111111111111,
              "#46039f"
             ],
             [
              0.2222222222222222,
              "#7201a8"
             ],
             [
              0.3333333333333333,
              "#9c179e"
             ],
             [
              0.4444444444444444,
              "#bd3786"
             ],
             [
              0.5555555555555556,
              "#d8576b"
             ],
             [
              0.6666666666666666,
              "#ed7953"
             ],
             [
              0.7777777777777778,
              "#fb9f3a"
             ],
             [
              0.8888888888888888,
              "#fdca26"
             ],
             [
              1,
              "#f0f921"
             ]
            ],
            "type": "histogram2d"
           }
          ],
          "histogram2dcontour": [
           {
            "colorbar": {
             "outlinewidth": 0,
             "ticks": ""
            },
            "colorscale": [
             [
              0,
              "#0d0887"
             ],
             [
              0.1111111111111111,
              "#46039f"
             ],
             [
              0.2222222222222222,
              "#7201a8"
             ],
             [
              0.3333333333333333,
              "#9c179e"
             ],
             [
              0.4444444444444444,
              "#bd3786"
             ],
             [
              0.5555555555555556,
              "#d8576b"
             ],
             [
              0.6666666666666666,
              "#ed7953"
             ],
             [
              0.7777777777777778,
              "#fb9f3a"
             ],
             [
              0.8888888888888888,
              "#fdca26"
             ],
             [
              1,
              "#f0f921"
             ]
            ],
            "type": "histogram2dcontour"
           }
          ],
          "mesh3d": [
           {
            "colorbar": {
             "outlinewidth": 0,
             "ticks": ""
            },
            "type": "mesh3d"
           }
          ],
          "parcoords": [
           {
            "line": {
             "colorbar": {
              "outlinewidth": 0,
              "ticks": ""
             }
            },
            "type": "parcoords"
           }
          ],
          "pie": [
           {
            "automargin": true,
            "type": "pie"
           }
          ],
          "scatter": [
           {
            "fillpattern": {
             "fillmode": "overlay",
             "size": 10,
             "solidity": 0.2
            },
            "type": "scatter"
           }
          ],
          "scatter3d": [
           {
            "line": {
             "colorbar": {
              "outlinewidth": 0,
              "ticks": ""
             }
            },
            "marker": {
             "colorbar": {
              "outlinewidth": 0,
              "ticks": ""
             }
            },
            "type": "scatter3d"
           }
          ],
          "scattercarpet": [
           {
            "marker": {
             "colorbar": {
              "outlinewidth": 0,
              "ticks": ""
             }
            },
            "type": "scattercarpet"
           }
          ],
          "scattergeo": [
           {
            "marker": {
             "colorbar": {
              "outlinewidth": 0,
              "ticks": ""
             }
            },
            "type": "scattergeo"
           }
          ],
          "scattergl": [
           {
            "marker": {
             "colorbar": {
              "outlinewidth": 0,
              "ticks": ""
             }
            },
            "type": "scattergl"
           }
          ],
          "scattermap": [
           {
            "marker": {
             "colorbar": {
              "outlinewidth": 0,
              "ticks": ""
             }
            },
            "type": "scattermap"
           }
          ],
          "scattermapbox": [
           {
            "marker": {
             "colorbar": {
              "outlinewidth": 0,
              "ticks": ""
             }
            },
            "type": "scattermapbox"
           }
          ],
          "scatterpolar": [
           {
            "marker": {
             "colorbar": {
              "outlinewidth": 0,
              "ticks": ""
             }
            },
            "type": "scatterpolar"
           }
          ],
          "scatterpolargl": [
           {
            "marker": {
             "colorbar": {
              "outlinewidth": 0,
              "ticks": ""
             }
            },
            "type": "scatterpolargl"
           }
          ],
          "scatterternary": [
           {
            "marker": {
             "colorbar": {
              "outlinewidth": 0,
              "ticks": ""
             }
            },
            "type": "scatterternary"
           }
          ],
          "surface": [
           {
            "colorbar": {
             "outlinewidth": 0,
             "ticks": ""
            },
            "colorscale": [
             [
              0,
              "#0d0887"
             ],
             [
              0.1111111111111111,
              "#46039f"
             ],
             [
              0.2222222222222222,
              "#7201a8"
             ],
             [
              0.3333333333333333,
              "#9c179e"
             ],
             [
              0.4444444444444444,
              "#bd3786"
             ],
             [
              0.5555555555555556,
              "#d8576b"
             ],
             [
              0.6666666666666666,
              "#ed7953"
             ],
             [
              0.7777777777777778,
              "#fb9f3a"
             ],
             [
              0.8888888888888888,
              "#fdca26"
             ],
             [
              1,
              "#f0f921"
             ]
            ],
            "type": "surface"
           }
          ],
          "table": [
           {
            "cells": {
             "fill": {
              "color": "#EBF0F8"
             },
             "line": {
              "color": "white"
             }
            },
            "header": {
             "fill": {
              "color": "#C8D4E3"
             },
             "line": {
              "color": "white"
             }
            },
            "type": "table"
           }
          ]
         },
         "layout": {
          "annotationdefaults": {
           "arrowcolor": "#2a3f5f",
           "arrowhead": 0,
           "arrowwidth": 1
          },
          "autotypenumbers": "strict",
          "coloraxis": {
           "colorbar": {
            "outlinewidth": 0,
            "ticks": ""
           }
          },
          "colorscale": {
           "diverging": [
            [
             0,
             "#8e0152"
            ],
            [
             0.1,
             "#c51b7d"
            ],
            [
             0.2,
             "#de77ae"
            ],
            [
             0.3,
             "#f1b6da"
            ],
            [
             0.4,
             "#fde0ef"
            ],
            [
             0.5,
             "#f7f7f7"
            ],
            [
             0.6,
             "#e6f5d0"
            ],
            [
             0.7,
             "#b8e186"
            ],
            [
             0.8,
             "#7fbc41"
            ],
            [
             0.9,
             "#4d9221"
            ],
            [
             1,
             "#276419"
            ]
           ],
           "sequential": [
            [
             0,
             "#0d0887"
            ],
            [
             0.1111111111111111,
             "#46039f"
            ],
            [
             0.2222222222222222,
             "#7201a8"
            ],
            [
             0.3333333333333333,
             "#9c179e"
            ],
            [
             0.4444444444444444,
             "#bd3786"
            ],
            [
             0.5555555555555556,
             "#d8576b"
            ],
            [
             0.6666666666666666,
             "#ed7953"
            ],
            [
             0.7777777777777778,
             "#fb9f3a"
            ],
            [
             0.8888888888888888,
             "#fdca26"
            ],
            [
             1,
             "#f0f921"
            ]
           ],
           "sequentialminus": [
            [
             0,
             "#0d0887"
            ],
            [
             0.1111111111111111,
             "#46039f"
            ],
            [
             0.2222222222222222,
             "#7201a8"
            ],
            [
             0.3333333333333333,
             "#9c179e"
            ],
            [
             0.4444444444444444,
             "#bd3786"
            ],
            [
             0.5555555555555556,
             "#d8576b"
            ],
            [
             0.6666666666666666,
             "#ed7953"
            ],
            [
             0.7777777777777778,
             "#fb9f3a"
            ],
            [
             0.8888888888888888,
             "#fdca26"
            ],
            [
             1,
             "#f0f921"
            ]
           ]
          },
          "colorway": [
           "#636efa",
           "#EF553B",
           "#00cc96",
           "#ab63fa",
           "#FFA15A",
           "#19d3f3",
           "#FF6692",
           "#B6E880",
           "#FF97FF",
           "#FECB52"
          ],
          "font": {
           "color": "#2a3f5f"
          },
          "geo": {
           "bgcolor": "white",
           "lakecolor": "white",
           "landcolor": "#E5ECF6",
           "showlakes": true,
           "showland": true,
           "subunitcolor": "white"
          },
          "hoverlabel": {
           "align": "left"
          },
          "hovermode": "closest",
          "mapbox": {
           "style": "light"
          },
          "paper_bgcolor": "white",
          "plot_bgcolor": "#E5ECF6",
          "polar": {
           "angularaxis": {
            "gridcolor": "white",
            "linecolor": "white",
            "ticks": ""
           },
           "bgcolor": "#E5ECF6",
           "radialaxis": {
            "gridcolor": "white",
            "linecolor": "white",
            "ticks": ""
           }
          },
          "scene": {
           "xaxis": {
            "backgroundcolor": "#E5ECF6",
            "gridcolor": "white",
            "gridwidth": 2,
            "linecolor": "white",
            "showbackground": true,
            "ticks": "",
            "zerolinecolor": "white"
           },
           "yaxis": {
            "backgroundcolor": "#E5ECF6",
            "gridcolor": "white",
            "gridwidth": 2,
            "linecolor": "white",
            "showbackground": true,
            "ticks": "",
            "zerolinecolor": "white"
           },
           "zaxis": {
            "backgroundcolor": "#E5ECF6",
            "gridcolor": "white",
            "gridwidth": 2,
            "linecolor": "white",
            "showbackground": true,
            "ticks": "",
            "zerolinecolor": "white"
           }
          },
          "shapedefaults": {
           "line": {
            "color": "#2a3f5f"
           }
          },
          "ternary": {
           "aaxis": {
            "gridcolor": "white",
            "linecolor": "white",
            "ticks": ""
           },
           "baxis": {
            "gridcolor": "white",
            "linecolor": "white",
            "ticks": ""
           },
           "bgcolor": "#E5ECF6",
           "caxis": {
            "gridcolor": "white",
            "linecolor": "white",
            "ticks": ""
           }
          },
          "title": {
           "x": 0.05
          },
          "xaxis": {
           "automargin": true,
           "gridcolor": "white",
           "linecolor": "white",
           "ticks": "",
           "title": {
            "standoff": 15
           },
           "zerolinecolor": "white",
           "zerolinewidth": 2
          },
          "yaxis": {
           "automargin": true,
           "gridcolor": "white",
           "linecolor": "white",
           "ticks": "",
           "title": {
            "standoff": 15
           },
           "zerolinecolor": "white",
           "zerolinewidth": 2
          }
         }
        },
        "title": {
         "text": "Netflix Content Distribution by Country"
        }
       }
      }
     },
     "metadata": {},
     "output_type": "display_data"
    }
   ],
   "source": [
    "country_counts = df['Country'].value_counts().reset_index()\n",
    "country_counts.columns = ['Country', 'Count']\n",
    "fig = px.choropleth(country_counts, locations='Country', locationmode='country names',\n",
    "                    color='Count', color_continuous_scale='Viridis',\n",
    "                    title='Netflix Content Distribution by Country')\n",
    "fig.show()"
   ]
  },
  {
   "cell_type": "code",
   "execution_count": 18,
   "id": "05c5ea3e",
   "metadata": {},
   "outputs": [
    {
     "data": {
      "image/png": "[encoded data removed]",
      "text/plain": [
       "<Figure size 1200x600 with 1 Axes>"
      ]
     },
     "metadata": {},
     "output_type": "display_data"
    }
   ],
   "source": [
    "popular_genres = df['Main_Genre'].value_counts().head(5).index\n",
    "genre_trends = df[df['Main_Genre'].isin(popular_genres)].groupby(['Year','Main_Genre']).size().reset_index(name='Count')\n",
    "sns.lineplot(data=genre_trends, x='Year', y='Count', hue='Main_Genre', marker='o')\n",
    "plt.title('Trends of Popular Genres on Netflix Over Years')\n",
    "plt.xlabel('Year')\n",
    "plt.ylabel('Number of Titles Added')\n",
    "plt.show()"
   ]
  },
  {
   "cell_type": "code",
   "execution_count": 21,
   "id": "9c2fee40",
   "metadata": {},
   "outputs": [
    {
     "name": "stderr",
     "output_type": "stream",
     "text": [
      "C:\\Users\\Mohammed Mudasir\\AppData\\Local\\Temp\\ipykernel_57920\\793918000.py:2: FutureWarning:\n",
      "\n",
      "\n",
      "\n",
      "Passing `palette` without assigning `hue` is deprecated and will be removed in v0.14.0. Assign the `x` variable to `hue` and set `legend=False` for the same effect.\n",
      "\n",
      "\n"
     ]
    },
    {
     "data": {
      "image/png": "[encoded data removed]",
      "text/plain": [
       "<Figure size 1000x600 with 1 Axes>"
      ]
     },
     "metadata": {},
     "output_type": "display_data"
    }
   ],
   "source": [
    "plt.figure(figsize=(10,6))\n",
    "sns.boxplot(data=df, x='Category', y='Year', palette='Set3')\n",
    "plt.title('Year of Release Distribution by Category')\n",
    "plt.xlabel('Category')\n",
    "plt.ylabel('Year of Release')\n",
    "plt.show()"
   ]
  },
  {
   "cell_type": "code",
   "execution_count": null,
   "id": "949edf8c",
   "metadata": {},
   "outputs": [],
   "source": []
  }
 ],
 "metadata": {
  "kernelspec": {
   "display_name": "Python 3",
   "language": "python",
   "name": "python3"
  },
  "language_info": {
   "codemirror_mode": {
    "name": "ipython",
    "version": 3
   },
   "file_extension": ".py",
   "mimetype": "text/x-python",
   "name": "python",
   "nbconvert_exporter": "python",
   "pygments_lexer": "ipython3",
   "version": "3.11.9"
  }
 },
 "nbformat": 4,
 "nbformat_minor": 5
}
